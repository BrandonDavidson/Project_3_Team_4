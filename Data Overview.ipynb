{
 "cells": [
  {
   "cell_type": "code",
   "execution_count": 1,
   "id": "7907fddb-11a7-4cb5-8fe0-51b21475356e",
   "metadata": {},
   "outputs": [
    {
     "ename": "FileNotFoundError",
     "evalue": "[WinError 3] The system cannot find the path specified: '..\\\\image_classification_project\\\\data\\train\\\\images'",
     "output_type": "error",
     "traceback": [
      "\u001b[1;31m---------------------------------------------------------------------------\u001b[0m",
      "\u001b[1;31mFileNotFoundError\u001b[0m                         Traceback (most recent call last)",
      "Cell \u001b[1;32mIn[1], line 15\u001b[0m\n\u001b[0;32m     12\u001b[0m label_dir \u001b[38;5;241m=\u001b[39m os\u001b[38;5;241m.\u001b[39mpath\u001b[38;5;241m.\u001b[39mjoin(file_path, \u001b[38;5;124m'\u001b[39m\u001b[38;5;124mlabels\u001b[39m\u001b[38;5;124m'\u001b[39m)\n\u001b[0;32m     14\u001b[0m \u001b[38;5;66;03m# Get sorted list of filenames\u001b[39;00m\n\u001b[1;32m---> 15\u001b[0m image_files \u001b[38;5;241m=\u001b[39m \u001b[38;5;28msorted\u001b[39m(\u001b[43mos\u001b[49m\u001b[38;5;241;43m.\u001b[39;49m\u001b[43mlistdir\u001b[49m\u001b[43m(\u001b[49m\u001b[43mimage_dir\u001b[49m\u001b[43m)\u001b[49m)\n\u001b[0;32m     16\u001b[0m label_files \u001b[38;5;241m=\u001b[39m \u001b[38;5;28msorted\u001b[39m(os\u001b[38;5;241m.\u001b[39mlistdir(label_dir))\n\u001b[0;32m     18\u001b[0m \u001b[38;5;66;03m# Create a DataFrame to store file names and labels\u001b[39;00m\n",
      "\u001b[1;31mFileNotFoundError\u001b[0m: [WinError 3] The system cannot find the path specified: '..\\\\image_classification_project\\\\data\\train\\\\images'"
     ]
    }
   ],
   "source": [
    "import os\n",
    "import pandas as pd\n",
    "import matplotlib.pyplot as plt\n",
    "from PIL import Image\n",
    "import numpy as np\n",
    "\n",
    "# Set the path to your train directory\n",
    "file_path = \"..\\image_classification_project\\data\\train\"\n",
    "\n",
    "# Define paths to image and label directories\n",
    "image_dir = os.path.join(file_path, 'images')\n",
    "label_dir = os.path.join(file_path, 'labels')\n",
    "\n",
    "# Get sorted list of filenames\n",
    "image_files = sorted(os.listdir(image_dir))\n",
    "label_files = sorted(os.listdir(label_dir))\n",
    "\n",
    "# Create a DataFrame to store file names and labels\n",
    "data = []\n",
    "for img_file, label_file in zip(image_files, label_files):\n",
    "    label_path = os.path.join(label_dir, label_file)\n",
    "    with open(label_path, 'r') as f:\n",
    "        label = f.read().strip()\n",
    "    data.append({'Images': img_file, 'Labels': label})\n",
    "\n",
    "df = pd.DataFrame(data)\n",
    "\n",
    "# Display the first few rows of the DataFrame\n",
    "print(\"First few rows of the dataset:\")\n",
    "display(df.head())\n",
    "\n",
    "# Display summary statistics of the labels\n",
    "print(\"\\nSummary statistics of the labels:\")\n",
    "display(df['Label'].describe())\n",
    "\n",
    "# Count the occurrences of each label\n",
    "print(\"\\nLabel distribution:\")\n",
    "display(df['Label'].value_counts())\n",
    "\n",
    "# Plot the distribution of labels\n",
    "plt.figure(figsize=(10, 5))\n",
    "df['Label'].value_counts().plot(kind='bar')\n",
    "plt.title('Distribution of Labels')\n",
    "plt.xlabel('Label')\n",
    "plt.ylabel('Count')\n",
    "plt.show()\n",
    "\n",
    "# Check image dimensions\n",
    "print(\"\\nChecking image dimensions...\")\n",
    "img_sizes = []\n",
    "for img_file in image_files[:100]:  # Check first 100 images\n",
    "    img_path = os.path.join(image_dir, img_file)\n",
    "    with Image.open(img_path) as img:\n",
    "        img_sizes.append(img.size)\n",
    "\n",
    "unique_sizes = set(img_sizes)\n",
    "print(f\"Unique image sizes found: {unique_sizes}\")\n",
    "\n",
    "# Display a few example images with their labels\n",
    "print(\"\\nDisplaying example images:\")\n",
    "fig, axes = plt.subplots(2, 3, figsize=(15, 10))\n",
    "for i, ax in enumerate(axes.flat):\n",
    "    if i < len(image_files):\n",
    "        img_path = os.path.join(image_dir, image_files[i])\n",
    "        img = Image.open(img_path)\n",
    "        ax.imshow(img)\n",
    "        ax.set_title(f\"Label: {df.iloc[i]['Label']}\")\n",
    "        ax.axis('off')\n",
    "plt.tight_layout()\n",
    "plt.show()"
   ]
  }
 ],
 "metadata": {
  "kernelspec": {
   "display_name": "Python 3 (ipykernel)",
   "language": "python",
   "name": "python3"
  },
  "language_info": {
   "codemirror_mode": {
    "name": "ipython",
    "version": 3
   },
   "file_extension": ".py",
   "mimetype": "text/x-python",
   "name": "python",
   "nbconvert_exporter": "python",
   "pygments_lexer": "ipython3",
   "version": "3.10.14"
  }
 },
 "nbformat": 4,
 "nbformat_minor": 5
}
